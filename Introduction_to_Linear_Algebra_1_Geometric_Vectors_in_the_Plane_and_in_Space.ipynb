{
  "nbformat": 4,
  "nbformat_minor": 0,
  "metadata": {
    "colab": {
      "provenance": [],
      "toc_visible": true,
      "authorship_tag": "ABX9TyN5yK+GNBVF7bnfTENz7TlT",
      "include_colab_link": true
    },
    "kernelspec": {
      "name": "python3",
      "display_name": "Python 3"
    },
    "language_info": {
      "name": "python"
    }
  },
  "cells": [
    {
      "cell_type": "markdown",
      "metadata": {
        "id": "view-in-github",
        "colab_type": "text"
      },
      "source": [
        "<a href=\"https://colab.research.google.com/github/PaulToronto/University-of-Sydney---Math-Courses/blob/main/Introduction_to_Linear_Algebra_1_Geometric_Vectors_in_the_Plane_and_in_Space.ipynb\" target=\"_parent\"><img src=\"https://colab.research.google.com/assets/colab-badge.svg\" alt=\"Open In Colab\"/></a>"
      ]
    },
    {
      "cell_type": "markdown",
      "source": [
        "# Introduction to Linear Algebra - 1 - Geometric Vectors in the Plane and in Space"
      ],
      "metadata": {
        "id": "YIV-lmybTRrf"
      }
    }
  ]
}